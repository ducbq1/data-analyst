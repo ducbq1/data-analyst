{
 "cells": [
  {
   "cell_type": "code",
   "execution_count": 1,
   "metadata": {},
   "outputs": [
    {
     "name": "stdout",
     "output_type": "stream",
     "text": [
      "htt\n"
     ]
    }
   ],
   "source": [
    "website = \"http://google.com\"\n",
    "slice = slice(0, 3)\n",
    "print(website[slice])"
   ]
  }
 ],
 "metadata": {
  "kernelspec": {
   "display_name": "Python 3",
   "language": "python",
   "name": "python3"
  },
  "language_info": {
   "codemirror_mode": {
    "name": "ipython",
    "version": 3
   },
   "file_extension": ".py",
   "mimetype": "text/x-python",
   "name": "python",
   "nbconvert_exporter": "python",
   "pygments_lexer": "ipython3",
   "version": "3.10.9"
  },
  "orig_nbformat": 4,
  "vscode": {
   "interpreter": {
    "hash": "cc2a200e1e6dab10c4dc3986f0e7a998296447c993c26561a1bd050a849d8214"
   }
  }
 },
 "nbformat": 4,
 "nbformat_minor": 2
}
