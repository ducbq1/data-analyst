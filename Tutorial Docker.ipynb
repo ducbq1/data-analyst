{
 "cells": [
  {
   "attachments": {},
   "cell_type": "markdown",
   "metadata": {},
   "source": [
    "docker run -v /home/mount/data:/var/lib/mysql/data\n",
    "docker run -v /var/lib/mysql/data\n",
    "docker run -v name:/var/lib/mysql/data"
   ]
  },
  {
   "attachments": {},
   "cell_type": "markdown",
   "metadata": {},
   "source": [
    "$ docker network create wordpress-network\n",
    "\n",
    "$ docker volumne create --name mariadb_data\n",
    "\n",
    "$ docker run -d --name mariadb \\\n",
    "--env ALLOW_EMPTY_PASSWORD=yes \\\n",
    "--env MARIADB_USER=bn_wordpress \\\n",
    "--env MARIADB_PASSWORD=bitnami \\\n",
    "--env MARIADB_DATABASE=bitnami_wordpress \\\n",
    "--network wordpress-network \\\n",
    "--volume mariadb_data:/bitnami/mariadb \\\n",
    "bitnami/mariadb:lastest\n",
    "\n",
    "hostnamectl set-hostname mariadb"
   ]
  },
  {
   "attachments": {},
   "cell_type": "markdown",
   "metadata": {},
   "source": [
    "$ docker volume create --name wordpress_data\n",
    "$ docker run -d --name wordpress \\\n",
    "  -p 8080:8080 -p 8443:8443 \\\n",
    "  --env ALLOW_EMPTY_PASSWORD=yes \\\n",
    "  --env WORDPRESS_DATABASE_HOST=192.168.31.169\n",
    "  --env WORDPRESS_DATABASE_USER=bn_wordpress \\\n",
    "  --env WORDPRESS_DATABASE_PASSWORD=bitnami \\\n",
    "  --env WORDPRESS_DATABASE_NAME=bitnami_wordpress \\\n",
    "  --network wordpress-network \\\n",
    "  --volume wordpress_data:/bitnami/wordpress \\\n",
    "  --add-host mariadb: 192.168.31.169\n",
    "  bitnami/wordpress:latest"
   ]
  },
  {
   "attachments": {},
   "cell_type": "markdown",
   "metadata": {},
   "source": [
    "$ curl -sSL https://raw.githubusercontent.com/bitnami/bitnami-docker-wordpress/master/docker-compose.yml > docker-compose.yml\n",
    "$ docker-compose up -d"
   ]
  },
  {
   "cell_type": "markdown",
   "metadata": {},
   "source": []
  }
 ],
 "metadata": {
  "kernelspec": {
   "display_name": "Python 3",
   "language": "python",
   "name": "python3"
  },
  "language_info": {
   "name": "python",
   "version": "3.10.10"
  },
  "orig_nbformat": 4,
  "vscode": {
   "interpreter": {
    "hash": "8bf0d51478355d2251941b3b98616086516a0eddd7c72ee47a3371765770709a"
   }
  }
 },
 "nbformat": 4,
 "nbformat_minor": 2
}
