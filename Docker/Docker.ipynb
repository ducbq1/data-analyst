{
 "cells": [
  {
   "attachments": {},
   "cell_type": "raw",
   "metadata": {},
   "source": [
    "docker ps\n",
    "docker run postgres:9.6\n",
    "docker run -d redis (Detached mode)\n",
    "docker ps -a (Lists running and stopped container)\n",
    "docker run -p 6000:6379 redis:4.0\n",
    "docker run -d -p 6001:6379 --name redis-lastest redis\n",
    "docker exec -it cae903a74202 /bin/bash\n",
    "docker exec -it cae003a74202 sh\n",
    "docker pull mongo\n",
    "docker images\n",
    "docker network ls\n",
    "docker network create mongo-network\n",
    "docker run -p 27017:27017 -d -e MONGO_INITDB_ROOT_USERNAME=admin \n",
    "           -e MONGO_INITDB_ROOT_PASSWORD=password mongo"
   ]
  }
 ],
 "metadata": {
  "kernelspec": {
   "display_name": "Python 3",
   "language": "python",
   "name": "python3"
  },
  "language_info": {
   "name": "python",
   "version": "3.10.9"
  },
  "orig_nbformat": 4,
  "vscode": {
   "interpreter": {
    "hash": "8bf0d51478355d2251941b3b98616086516a0eddd7c72ee47a3371765770709a"
   }
  }
 },
 "nbformat": 4,
 "nbformat_minor": 2
}
